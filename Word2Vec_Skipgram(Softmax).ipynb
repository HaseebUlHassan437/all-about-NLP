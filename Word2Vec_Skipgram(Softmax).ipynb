{
  "nbformat": 4,
  "nbformat_minor": 0,
  "metadata": {
    "colab": {
      "provenance": []
    },
    "kernelspec": {
      "name": "python3",
      "display_name": "Python 3"
    },
    "language_info": {
      "name": "python"
    }
  },
  "cells": [
    {
      "cell_type": "markdown",
      "source": [
        "# **Imports & Helper Function**"
      ],
      "metadata": {
        "id": "PJe8fSRAMqmX"
      }
    },
    {
      "cell_type": "code",
      "execution_count": 1,
      "metadata": {
        "id": "phO3NkhVAxyU"
      },
      "outputs": [],
      "source": [
        "# === Cell: Imports & Helper Function ===\n",
        "\n",
        "# Basic libraries\n",
        "import numpy as np\n",
        "import torch\n",
        "import torch.nn as nn\n",
        "import torch.optim as optim\n",
        "import matplotlib.pyplot as plt\n",
        "\n",
        "def random_batch():\n",
        "    \"\"\"\n",
        "    Samples a random mini‑batch of skip‑gram pairs.\n",
        "    Returns one‑hot encoded inputs and integer labels.\n",
        "    \"\"\"\n",
        "    inputs, labels = [], []\n",
        "    # Choose random indices without replacement\n",
        "    random_indices = np.random.choice(range(len(skip_grams)), batch_size, replace=False)\n",
        "\n",
        "    for idx in random_indices:\n",
        "        target_idx, context_idx = skip_grams[idx]\n",
        "        inputs.append(np.eye(voc_size)[target_idx])  # one-hot vector for target word\n",
        "        labels.append(context_idx)                   # context word index\n",
        "\n",
        "    return inputs, labels\n"
      ]
    },
    {
      "cell_type": "markdown",
      "source": [
        "# **Word2Vec Model Definition**"
      ],
      "metadata": {
        "id": "qz1xPuP3Mlqi"
      }
    },
    {
      "cell_type": "code",
      "source": [
        "# === Cell: Word2Vec Model Definition ===\n",
        "\n",
        "class Word2Vec(nn.Module):\n",
        "    def __init__(self):\n",
        "        super(Word2Vec, self).__init__()\n",
        "        # Maps one-hot input → dense embedding\n",
        "        self.W = nn.Linear(voc_size, embedding_size, bias=False)\n",
        "        # Maps embedding → vocabulary logits\n",
        "        self.WT = nn.Linear(embedding_size, voc_size, bias=False)\n",
        "\n",
        "    def forward(self, X):\n",
        "        hidden = self.W(X)           # [batch_size, embedding_size]\n",
        "        output = self.WT(hidden)     # [batch_size, voc_size]\n",
        "        return output\n"
      ],
      "metadata": {
        "id": "H2E_zeZHCKBb"
      },
      "execution_count": 2,
      "outputs": []
    },
    {
      "cell_type": "markdown",
      "source": [
        "# **Data Preparation**"
      ],
      "metadata": {
        "id": "NDQxwZMAMhVX"
      }
    },
    {
      "cell_type": "code",
      "source": [
        "# === Cell: Data Preparation ===\n",
        "\n",
        "# Hyperparameters\n",
        "batch_size = 2\n",
        "embedding_size = 2\n",
        "\n",
        "# Example sentences\n",
        "sentences = [\n",
        "    \"apple banana fruit\", \"banana orange fruit\", \"orange banana fruit\",\n",
        "    \"dog cat animal\", \"cat monkey animal\", \"monkey dog animal\"\n",
        "]\n",
        "\n",
        "# Build vocabulary\n",
        "word_sequence = \" \".join(sentences).split()\n",
        "word_list = list(set(word_sequence))\n",
        "word_dict = {w: i for i, w in enumerate(word_list)}\n",
        "voc_size = len(word_list)\n",
        "\n",
        "# Generate skip-gram pairs (target, context)\n",
        "skip_grams = []\n",
        "for i in range(1, len(word_sequence) - 1):\n",
        "    target = word_dict[word_sequence[i]]\n",
        "    contexts = [word_dict[word_sequence[i - 1]], word_dict[word_sequence[i + 1]]]\n",
        "    for ctx in contexts:\n",
        "        skip_grams.append([target, ctx])\n"
      ],
      "metadata": {
        "id": "7X4gCGu_CJ-S"
      },
      "execution_count": 3,
      "outputs": []
    },
    {
      "cell_type": "markdown",
      "source": [
        "# **Training Loop**"
      ],
      "metadata": {
        "id": "U_Aqc1cJMcKx"
      }
    },
    {
      "cell_type": "code",
      "source": [
        "# === Cell: Training Loop ===\n",
        "\n",
        "# Instantiate model, loss, and optimizer\n",
        "model = Word2Vec()\n",
        "criterion = nn.CrossEntropyLoss()\n",
        "optimizer = optim.Adam(model.parameters(), lr=0.001)\n",
        "\n",
        "# Train for 5000 epochs\n",
        "for epoch in range(5000):\n",
        "    inputs, labels = random_batch()\n",
        "    inputs = torch.Tensor(inputs)            # [batch_size, voc_size]\n",
        "    labels = torch.LongTensor(labels)        # [batch_size]\n",
        "\n",
        "    optimizer.zero_grad()\n",
        "    outputs = model(inputs)                  # forward pass\n",
        "    loss = criterion(outputs, labels)        # compute cross-entropy loss\n",
        "\n",
        "    if (epoch + 1) % 1000 == 0:\n",
        "        print(f'Epoch: {epoch+1:04d}, Loss = {loss.item():.6f}')\n",
        "\n",
        "    loss.backward()                          # backpropagation\n",
        "    optimizer.step()                         # update weights\n"
      ],
      "metadata": {
        "id": "retiYt38CJ7D",
        "colab": {
          "base_uri": "https://localhost:8080/"
        },
        "outputId": "74eefc6d-4694-4b1a-801c-34a60366fc87"
      },
      "execution_count": 4,
      "outputs": [
        {
          "output_type": "stream",
          "name": "stderr",
          "text": [
            "<ipython-input-4-c807c18abd1e>:11: UserWarning: Creating a tensor from a list of numpy.ndarrays is extremely slow. Please consider converting the list to a single numpy.ndarray with numpy.array() before converting to a tensor. (Triggered internally at /pytorch/torch/csrc/utils/tensor_new.cpp:254.)\n",
            "  inputs = torch.Tensor(inputs)            # [batch_size, voc_size]\n"
          ]
        },
        {
          "output_type": "stream",
          "name": "stdout",
          "text": [
            "Epoch: 1000, Loss = 2.037715\n",
            "Epoch: 2000, Loss = 1.703401\n",
            "Epoch: 3000, Loss = 1.581577\n",
            "Epoch: 4000, Loss = 1.142689\n",
            "Epoch: 5000, Loss = 0.852097\n"
          ]
        }
      ]
    },
    {
      "cell_type": "code",
      "source": [
        "# === Cell: Plot Learned Embeddings ===\n",
        "\n",
        "# Extract embedding weight matrix\n",
        "embeddings = model.W.weight.data.numpy().T  # shape: [voc_size, embedding_size]\n",
        "\n",
        "# Scatter plot each word in 2D embedding space\n",
        "for i, word in enumerate(word_list):\n",
        "    x, y = embeddings[i]\n",
        "    plt.scatter(x, y)\n",
        "    plt.annotate(word, (x, y), textcoords='offset points', xytext=(5,2))\n",
        "\n",
        "plt.title(\"2D Word Embeddings\")\n",
        "plt.xlabel(\"Dimension 1\")\n",
        "plt.ylabel(\"Dimension 2\")\n",
        "plt.show()\n"
      ],
      "metadata": {
        "id": "xuMkLP-lCZjZ",
        "colab": {
          "base_uri": "https://localhost:8080/",
          "height": 472
        },
        "outputId": "5f1fe245-564c-437f-d9b4-9c3d53068193"
      },
      "execution_count": 5,
      "outputs": [
        {
          "output_type": "display_data",
          "data": {
            "text/plain": [
              "<Figure size 640x480 with 1 Axes>"
            ],
            "image/png": "[encoded data removed]"
          },
          "metadata": {}
        }
      ]
    },
    {
      "cell_type": "code",
      "source": [],
      "metadata": {
        "id": "zvmI3zTFMS9W"
      },
      "execution_count": null,
      "outputs": []
    }
  ]
}