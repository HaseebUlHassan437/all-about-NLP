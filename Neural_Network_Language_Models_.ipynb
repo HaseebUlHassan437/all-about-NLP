{
  "nbformat": 4,
  "nbformat_minor": 0,
  "metadata": {
    "colab": {
      "provenance": []
    },
    "kernelspec": {
      "name": "python3",
      "display_name": "Python 3"
    },
    "language_info": {
      "name": "python"
    }
  },
  "cells": [
    {
      "cell_type": "markdown",
      "source": [
        "# **Data Preparation (make_batch)**"
      ],
      "metadata": {
        "id": "i1xexGrCStEZ"
      }
    },
    {
      "cell_type": "code",
      "execution_count": 1,
      "metadata": {
        "id": "N1XXj6SQ9-s8"
      },
      "outputs": [],
      "source": [
        "\n",
        "\n",
        "import torch\n",
        "import torch.nn as nn\n",
        "import torch.optim as optim\n",
        "\n",
        "def make_batch():\n",
        "    \"\"\"\n",
        "    Tokenizes each sentence and splits into inputs (all words except last)\n",
        "    and target (the final word) for causal language modeling.\n",
        "    \"\"\"\n",
        "    input_batch = []\n",
        "    target_batch = []\n",
        "\n",
        "    for sen in sentences:\n",
        "        words = sen.split()\n",
        "        input_ids = [word_dict[w] for w in words[:-1]]   # IDs for all tokens except last\n",
        "        target_id = word_dict[words[-1]]                  # ID of the last token\n",
        "\n",
        "        input_batch.append(input_ids)\n",
        "        target_batch.append(target_id)\n",
        "\n",
        "    return input_batch, target_batch\n"
      ]
    },
    {
      "cell_type": "markdown",
      "source": [
        "# **Definition (NNLM)**"
      ],
      "metadata": {
        "id": "lJtAdnvUSrwy"
      }
    },
    {
      "cell_type": "code",
      "source": [
        "\n",
        "\n",
        "class NNLM(nn.Module):\n",
        "    def __init__(self):\n",
        "        super(NNLM, self).__init__()\n",
        "        # Embedding lookup: maps token IDs → m‑dim vectors\n",
        "        self.C = nn.Embedding(n_class, m)\n",
        "        # Hidden layer: transforms flattened embeddings → hidden features\n",
        "        self.H = nn.Linear(n_step * m, n_hidden, bias=False)\n",
        "        # Bias vector for hidden layer before activation\n",
        "        self.d = nn.Parameter(torch.ones(n_hidden))\n",
        "        # Output projection from hidden state → vocabulary logits\n",
        "        self.U = nn.Linear(n_hidden, n_class, bias=False)\n",
        "        # Direct linear connection from input embeddings → vocabulary logits\n",
        "        self.W = nn.Linear(n_step * m, n_class, bias=False)\n",
        "        # Bias vector for final output\n",
        "        self.b = nn.Parameter(torch.ones(n_class))\n",
        "\n",
        "    def forward(self, X):\n",
        "        X = self.C(X)                       # [batch_size, n_step, m]\n",
        "        X = X.view(-1, n_step * m)          # flatten to [batch_size, n_step*m]\n",
        "        hidden = torch.tanh(self.d + self.H(X))  # non‑linear hidden representation\n",
        "        output = self.b + self.W(X) + self.U(hidden)  # combine direct & hidden paths\n",
        "        return output                       # [batch_size, n_class]\n",
        "\n",
        "\n"
      ],
      "metadata": {
        "id": "JPmA8kjR-6mA"
      },
      "execution_count": 2,
      "outputs": []
    },
    {
      "cell_type": "markdown",
      "source": [
        "# **Training & Prediction**"
      ],
      "metadata": {
        "id": "qa-Q3ohdTUCt"
      }
    },
    {
      "cell_type": "code",
      "source": [
        "# === Cell:  ===\n",
        "\n",
        "if __name__ == '__main__':\n",
        "    # Hyperparameters\n",
        "    n_step = 2        # Sequence length (context window)\n",
        "    n_hidden = 2      # Hidden layer size\n",
        "    m = 2             # Embedding dimension\n",
        "\n",
        "    # Example sentences\n",
        "    sentences = [\"i like dog\", \"i love coffee\", \"i hate milk\"]\n",
        "\n",
        "    # Build vocabulary mappings\n",
        "    word_list = list(set(\" \".join(sentences).split()))\n",
        "    word_dict = {w: i for i, w in enumerate(word_list)}    # token → index\n",
        "    number_dict = {i: w for i, w in enumerate(word_list)}  # index → token\n",
        "    n_class = len(word_dict)                               # vocabulary size\n",
        "\n",
        "    # Instantiate model, loss, and optimizer\n",
        "    model = NNLM()\n",
        "    criterion = nn.CrossEntropyLoss()\n",
        "    optimizer = optim.Adam(model.parameters(), lr=0.001)\n",
        "\n",
        "    # Prepare training batches\n",
        "    input_batch, target_batch = make_batch()\n",
        "    input_batch = torch.LongTensor(input_batch)    # shape: [batch_size, n_step]\n",
        "    target_batch = torch.LongTensor(target_batch)  # shape: [batch_size]\n",
        "\n",
        "    # Training loop\n",
        "    for epoch in range(5000):\n",
        "        optimizer.zero_grad()\n",
        "        output = model(input_batch)                 # logits over vocabulary\n",
        "        loss = criterion(output, target_batch)      # compute cross‑entropy loss\n",
        "\n",
        "        # Log every 1000 epochs\n",
        "        if (epoch + 1) % 1000 == 0:\n",
        "            print(f'Epoch: {epoch+1:04d}, Loss = {loss.item():.6f}')\n",
        "\n",
        "        loss.backward()\n",
        "        optimizer.step()\n",
        "\n",
        "    # Prediction: pick highest‑scoring word for each input\n",
        "    _, predicted_indices = model(input_batch).max(dim=1)\n",
        "\n",
        "    # Display results\n",
        "    contexts = [sen.split()[:2] for sen in sentences]\n",
        "    predictions = [number_dict[idx.item()] for idx in predicted_indices]\n",
        "    print(contexts, '->', predictions)\n"
      ],
      "metadata": {
        "id": "3y4s_X-8-6NB",
        "colab": {
          "base_uri": "https://localhost:8080/"
        },
        "outputId": "9b86b795-7ecd-4e49-a165-3f6c057658f5"
      },
      "execution_count": 3,
      "outputs": [
        {
          "output_type": "stream",
          "name": "stdout",
          "text": [
            "Epoch: 1000, Loss = 0.057152\n",
            "Epoch: 2000, Loss = 0.010861\n",
            "Epoch: 3000, Loss = 0.003912\n",
            "Epoch: 4000, Loss = 0.001764\n",
            "Epoch: 5000, Loss = 0.000885\n",
            "[['i', 'like'], ['i', 'love'], ['i', 'hate']] -> ['dog', 'coffee', 'milk']\n"
          ]
        }
      ]
    },
    {
      "cell_type": "code",
      "source": [],
      "metadata": {
        "id": "EnXOYc5U_APp"
      },
      "execution_count": null,
      "outputs": []
    }
  ]
}